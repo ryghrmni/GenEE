{
  "nbformat": 4,
  "nbformat_minor": 0,
  "metadata": {
    "colab": {
      "provenance": []
    },
    "kernelspec": {
      "name": "python3",
      "display_name": "Python 3"
    },
    "language_info": {
      "name": "python"
    }
  },
  "cells": [
    {
      "cell_type": "markdown",
      "source": [
        "## Step 1: Data Collection"
      ],
      "metadata": {
        "id": "XlxA20UFXtPK"
      }
    },
    {
      "cell_type": "code",
      "source": [
        "!pip install newsapi-python"
      ],
      "metadata": {
        "colab": {
          "base_uri": "https://localhost:8080/"
        },
        "id": "TixPyCjolUI1",
        "outputId": "06b6dc14-266b-402b-a83f-d2f20f18a6c8"
      },
      "execution_count": null,
      "outputs": [
        {
          "output_type": "stream",
          "name": "stdout",
          "text": [
            "Collecting newsapi-python\n",
            "  Downloading newsapi_python-0.2.7-py2.py3-none-any.whl.metadata (1.2 kB)\n",
            "Requirement already satisfied: requests<3.0.0 in /usr/local/lib/python3.10/dist-packages (from newsapi-python) (2.32.3)\n",
            "Requirement already satisfied: charset-normalizer<4,>=2 in /usr/local/lib/python3.10/dist-packages (from requests<3.0.0->newsapi-python) (3.3.2)\n",
            "Requirement already satisfied: idna<4,>=2.5 in /usr/local/lib/python3.10/dist-packages (from requests<3.0.0->newsapi-python) (3.10)\n",
            "Requirement already satisfied: urllib3<3,>=1.21.1 in /usr/local/lib/python3.10/dist-packages (from requests<3.0.0->newsapi-python) (2.2.3)\n",
            "Requirement already satisfied: certifi>=2017.4.17 in /usr/local/lib/python3.10/dist-packages (from requests<3.0.0->newsapi-python) (2024.8.30)\n",
            "Downloading newsapi_python-0.2.7-py2.py3-none-any.whl (7.9 kB)\n",
            "Installing collected packages: newsapi-python\n",
            "Successfully installed newsapi-python-0.2.7\n"
          ]
        }
      ]
    },
    {
      "cell_type": "code",
      "source": [
        "from newsapi import NewsApiClient\n",
        "import json\n",
        "import pandas as pd\n",
        "from datetime import datetime"
      ],
      "metadata": {
        "id": "GE17cVsRXMC1"
      },
      "execution_count": null,
      "outputs": []
    },
    {
      "cell_type": "code",
      "source": [
        "# Define the topics and categories relevant to the project\n",
        "topics = ['politics', 'economy', 'natural disasters', 'business', 'technology', 'health', 'sports', 'education']"
      ],
      "metadata": {
        "id": "k4Q1P_dMl-Ym"
      },
      "execution_count": null,
      "outputs": []
    },
    {
      "cell_type": "code",
      "source": [
        "# Init\n",
        "newsapi = NewsApiClient(api_key='0f2f8e9d8cf9475aaaad769aa1ab95a3')"
      ],
      "metadata": {
        "id": "VAIoaizhlbm_"
      },
      "execution_count": null,
      "outputs": []
    },
    {
      "cell_type": "code",
      "source": [
        "# Collect articles for each topic within a broader time range\n",
        "all_articles = []\n",
        "for topic in topics:\n",
        "    articles = newsapi.get_everything(q=topic,\n",
        "                                      domains='bbc.co.uk,nytimes.com,reuters.com,techcrunch.com,engadget.com',  # Add more news domains as needed\n",
        "                                      from_param='2024-09-12',  # Adjust the time range as needed\n",
        "                                      to='2024-10-11',\n",
        "                                      language='en',\n",
        "                                      sort_by='relevancy',\n",
        "                                      page_size=100,  # Number of articles per page, you can paginate if needed\n",
        "                                      page=1)  # You can loop through pages for more articles\n",
        "    all_articles.append(articles)"
      ],
      "metadata": {
        "id": "Nw_caoVtmP4W"
      },
      "execution_count": null,
      "outputs": []
    },
    {
      "cell_type": "code",
      "source": [
        "all_articles"
      ],
      "metadata": {
        "id": "-MbTCuB-m6YL"
      },
      "execution_count": null,
      "outputs": []
    },
    {
      "cell_type": "code",
      "source": [
        "# Save the collected data to a JSON file\n",
        "with open('news_articles.json', 'w') as json_file:\n",
        "    json.dump(all_articles, json_file, indent=4)\n",
        "\n",
        "print(\"Articles saved to news_articles.json\")"
      ],
      "metadata": {
        "colab": {
          "base_uri": "https://localhost:8080/"
        },
        "id": "Toij6LPpnprw",
        "outputId": "704742c3-cf59-42af-f8de-1560b1969296"
      },
      "execution_count": null,
      "outputs": [
        {
          "output_type": "stream",
          "name": "stdout",
          "text": [
            "Articles saved to news_articles.json\n"
          ]
        }
      ]
    },
    {
      "cell_type": "code",
      "source": [
        "# Load the JSON data\n",
        "file_path = './news_articles.json'\n",
        "with open(file_path, 'r') as f:\n",
        "    data = json.load(f)"
      ],
      "metadata": {
        "id": "jEvozBZg1NVT"
      },
      "execution_count": 4,
      "outputs": []
    },
    {
      "cell_type": "code",
      "source": [
        "# Prepare lists to store structured data\n",
        "titles = []\n",
        "published_dates = []\n",
        "sources = []\n",
        "authors = []\n",
        "description = []\n",
        "urls = []"
      ],
      "metadata": {
        "id": "QEa8RdwD1TpE"
      },
      "execution_count": 11,
      "outputs": []
    },
    {
      "cell_type": "code",
      "source": [
        "# Loop through the articles and extract the required fields\n",
        "for item in data:\n",
        "    for article in item.get('articles', []):\n",
        "        titles.append(article.get('title', 'N/A'))\n",
        "        published_dates.append(article.get('publishedAt', 'N/A'))\n",
        "        sources.append(article['source'].get('name', 'N/A'))\n",
        "        authors.append(article.get('author', 'N/A'))\n",
        "        description.append(article.get('description', 'N/A'))\n",
        "        urls.append(article.get('url', 'N/A'))"
      ],
      "metadata": {
        "id": "VIpetQ3p1ULU"
      },
      "execution_count": 12,
      "outputs": []
    },
    {
      "cell_type": "code",
      "source": [
        "# Create a DataFrame to organize the extracted data\n",
        "df = pd.DataFrame({\n",
        "    'Title': titles,\n",
        "    'Published Date': published_dates,\n",
        "    'Source': sources,\n",
        "    'Author': authors,\n",
        "    'Description': description,\n",
        "    'URL': urls\n",
        "})"
      ],
      "metadata": {
        "id": "U13PSfem1UI2"
      },
      "execution_count": 13,
      "outputs": []
    },
    {
      "cell_type": "code",
      "source": [
        "# Convert 'Published Date' to a proper datetime format\n",
        "df['Published Date'] = pd.to_datetime(df['Published Date'], errors='coerce')"
      ],
      "metadata": {
        "id": "Sr0ws0Lx1UGV"
      },
      "execution_count": 14,
      "outputs": []
    },
    {
      "cell_type": "code",
      "source": [
        "# Save the structured data as a JSON file\n",
        "output_file_path = './structured_news_articles.json'\n",
        "df.to_json(output_file_path, orient='records', lines=True)\n",
        "\n",
        "output_file_path"
      ],
      "metadata": {
        "colab": {
          "base_uri": "https://localhost:8080/",
          "height": 36
        },
        "id": "GlV9rpDj09Rp",
        "outputId": "dafd31bb-065e-4a1f-d15f-a8ac4bb1f5f9"
      },
      "execution_count": 15,
      "outputs": [
        {
          "output_type": "execute_result",
          "data": {
            "text/plain": [
              "'./structured_news_articles.json'"
            ],
            "application/vnd.google.colaboratory.intrinsic+json": {
              "type": "string"
            }
          },
          "metadata": {},
          "execution_count": 15
        }
      ]
    }
  ]
}