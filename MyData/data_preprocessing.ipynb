{
  "nbformat": 4,
  "nbformat_minor": 0,
  "metadata": {
    "colab": {
      "provenance": [],
      "authorship_tag": "ABX9TyPepLQOplBN/BJTeBBdzr+4",
      "include_colab_link": true
    },
    "kernelspec": {
      "name": "python3",
      "display_name": "Python 3"
    },
    "language_info": {
      "name": "python"
    }
  },
  "cells": [
    {
      "cell_type": "markdown",
      "metadata": {
        "id": "view-in-github",
        "colab_type": "text"
      },
      "source": [
        "<a href=\"https://colab.research.google.com/github/ryghrmni/GenEE/blob/main/data_preprocessing.ipynb\" target=\"_parent\"><img src=\"https://colab.research.google.com/assets/colab-badge.svg\" alt=\"Open In Colab\"/></a>"
      ]
    },
    {
      "cell_type": "code",
      "source": [
        "!pip install unidecode"
      ],
      "metadata": {
        "colab": {
          "base_uri": "https://localhost:8080/"
        },
        "id": "LNRT2kb2Wtqk",
        "outputId": "de175ae7-f4d5-4659-c4ca-515a86b043bc"
      },
      "execution_count": 13,
      "outputs": [
        {
          "output_type": "stream",
          "name": "stdout",
          "text": [
            "Collecting unidecode\n",
            "  Downloading Unidecode-1.3.8-py3-none-any.whl.metadata (13 kB)\n",
            "Downloading Unidecode-1.3.8-py3-none-any.whl (235 kB)\n",
            "\u001b[?25l   \u001b[90m━━━━━━━━━━━━━━━━━━━━━━━━━━━━━━━━━━━━━━━━\u001b[0m \u001b[32m0.0/235.5 kB\u001b[0m \u001b[31m?\u001b[0m eta \u001b[36m-:--:--\u001b[0m\r\u001b[2K   \u001b[91m━━━━━━━━━━━━━━━━━━━━━━━━━━\u001b[0m\u001b[90m╺\u001b[0m\u001b[90m━━━━━━━━━━━━━\u001b[0m \u001b[32m153.6/235.5 kB\u001b[0m \u001b[31m4.5 MB/s\u001b[0m eta \u001b[36m0:00:01\u001b[0m\r\u001b[2K   \u001b[90m━━━━━━━━━━━━━━━━━━━━━━━━━━━━━━━━━━━━━━━━\u001b[0m \u001b[32m235.5/235.5 kB\u001b[0m \u001b[31m4.4 MB/s\u001b[0m eta \u001b[36m0:00:00\u001b[0m\n",
            "\u001b[?25hInstalling collected packages: unidecode\n",
            "Successfully installed unidecode-1.3.8\n"
          ]
        }
      ]
    },
    {
      "cell_type": "code",
      "source": [
        "import spacy\n",
        "import nltk\n",
        "from nltk.corpus import stopwords\n",
        "import json\n",
        "import string"
      ],
      "metadata": {
        "id": "kCUPQOVMUCD-"
      },
      "execution_count": 1,
      "outputs": []
    },
    {
      "cell_type": "code",
      "source": [
        "# Download necessary resources for NLTK\n",
        "nltk.download('punkt')\n",
        "nltk.download('stopwords')"
      ],
      "metadata": {
        "colab": {
          "base_uri": "https://localhost:8080/"
        },
        "id": "HOT21PsgUCk7",
        "outputId": "87a43d8c-0946-492c-f21e-5e8b5eb7c69d"
      },
      "execution_count": 2,
      "outputs": [
        {
          "output_type": "stream",
          "name": "stderr",
          "text": [
            "[nltk_data] Downloading package punkt to /root/nltk_data...\n",
            "[nltk_data]   Unzipping tokenizers/punkt.zip.\n",
            "[nltk_data] Downloading package stopwords to /root/nltk_data...\n",
            "[nltk_data]   Unzipping corpora/stopwords.zip.\n"
          ]
        },
        {
          "output_type": "execute_result",
          "data": {
            "text/plain": [
              "True"
            ]
          },
          "metadata": {},
          "execution_count": 2
        }
      ]
    },
    {
      "cell_type": "code",
      "source": [
        "# Load spaCy English language model for tokenization and NER\n",
        "nlp = spacy.load('en_core_web_sm')"
      ],
      "metadata": {
        "id": "xvwnlUMGUIiw"
      },
      "execution_count": 3,
      "outputs": []
    },
    {
      "cell_type": "code",
      "source": [
        "# Load stopwords\n",
        "stop_words = set(stopwords.words('english'))"
      ],
      "metadata": {
        "id": "3zOH4iB_UKa6"
      },
      "execution_count": 4,
      "outputs": []
    },
    {
      "cell_type": "code",
      "source": [
        "# Load the structured news articles JSON file\n",
        "input_file_path = './structured_news_articles.json'\n",
        "with open(input_file_path, 'r') as f:\n",
        "    articles = [json.loads(line) for line in f]"
      ],
      "metadata": {
        "id": "qRuHNVjlUMcg"
      },
      "execution_count": 6,
      "outputs": []
    },
    {
      "cell_type": "code",
      "source": [
        "import unidecode"
      ],
      "metadata": {
        "id": "8sRNAuOhW2s1"
      },
      "execution_count": 14,
      "outputs": []
    },
    {
      "cell_type": "code",
      "source": [
        "# Function to clean and preprocess text: fix Unicode, lowercasing, tokenization, stopword and punctuation removal\n",
        "def preprocess_text(text):\n",
        "    # Fix Unicode encodings (e.g., \\u2019 to a proper apostrophe)\n",
        "    text = unidecode.unidecode(text)\n",
        "\n",
        "    # Tokenize using spaCy\n",
        "    doc = nlp(text.lower())  # Lowercasing\n",
        "    tokens = [token.text for token in doc if token.text not in stop_words and token.text not in string.punctuation]\n",
        "\n",
        "    return \" \".join(tokens)"
      ],
      "metadata": {
        "id": "mwyRdnxeUObO"
      },
      "execution_count": 15,
      "outputs": []
    },
    {
      "cell_type": "code",
      "source": [
        "# Function to extract Named Entities using spaCy\n",
        "def extract_named_entities(text):\n",
        "    # Process the text with spaCy for NER\n",
        "    doc = nlp(text)\n",
        "    # Extract the named entities with their labels\n",
        "    entities = [(ent.text, ent.label_) for ent in doc.ents]\n",
        "    return entities"
      ],
      "metadata": {
        "id": "OuIqaeAuYp8E"
      },
      "execution_count": 18,
      "outputs": []
    },
    {
      "cell_type": "code",
      "source": [
        "# Preprocess the 'Description' and extract named entities for each article\n",
        "for article in articles:\n",
        "    if 'Description' in article and article['Description']:  # Check if Description exists and is not empty\n",
        "        # Preprocess text (cleaning, tokenization, etc.)\n",
        "        article['Cleaned Description'] = preprocess_text(article['Description'])\n",
        "        # Extract named entities from the original Description\n",
        "        article['Named Entities'] = extract_named_entities(article['Description'])"
      ],
      "metadata": {
        "id": "WLutdKrTUQht"
      },
      "execution_count": 19,
      "outputs": []
    },
    {
      "cell_type": "code",
      "source": [
        "# Save the preprocessed data with NER to a new JSON file\n",
        "output_file_path = './preprocessed_news_articles_with_ner.json'\n",
        "with open(output_file_path, 'w') as f:\n",
        "    for article in articles:\n",
        "        json.dump(article, f)\n",
        "        f.write('\\n')\n",
        "\n",
        "print(f\"Preprocessed data with NER saved to {output_file_path}\")"
      ],
      "metadata": {
        "colab": {
          "base_uri": "https://localhost:8080/"
        },
        "id": "3s8IvTJoUS5U",
        "outputId": "b5c679bb-2b58-4c74-8e60-1306a09928f0"
      },
      "execution_count": 20,
      "outputs": [
        {
          "output_type": "stream",
          "name": "stdout",
          "text": [
            "Preprocessed data with NER saved to ./preprocessed_news_articles_with_ner.json\n"
          ]
        }
      ]
    }
  ]
}