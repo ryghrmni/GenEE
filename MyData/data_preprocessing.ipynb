{
  "nbformat": 4,
  "nbformat_minor": 0,
  "metadata": {
    "colab": {
      "provenance": [],
      "gpuType": "T4"
    },
    "kernelspec": {
      "name": "python3",
      "display_name": "Python 3"
    },
    "language_info": {
      "name": "python"
    },
    "accelerator": "GPU"
  },
  "cells": [
    {
      "cell_type": "markdown",
      "source": [
        "**Data Cleaning and Preprocesssing**"
      ],
      "metadata": {
        "id": "YxC86-dWHeEI"
      }
    },
    {
      "cell_type": "code",
      "source": [
        "!pip install unidecode"
      ],
      "metadata": {
        "colab": {
          "base_uri": "https://localhost:8080/"
        },
        "id": "LNRT2kb2Wtqk",
        "outputId": "3596a224-7432-46d2-dcd3-c0b3819653d3"
      },
      "execution_count": 42,
      "outputs": [
        {
          "output_type": "stream",
          "name": "stdout",
          "text": [
            "Requirement already satisfied: unidecode in /usr/local/lib/python3.10/dist-packages (1.3.8)\n"
          ]
        }
      ]
    },
    {
      "cell_type": "code",
      "source": [
        "import json\n",
        "import re\n",
        "from unidecode import unidecode"
      ],
      "metadata": {
        "id": "zWR61Qb79q8q"
      },
      "execution_count": 43,
      "outputs": []
    },
    {
      "cell_type": "code",
      "source": [
        "class NewsDataCleaner:\n",
        "    def __init__(self, input_file, output_file):\n",
        "        self.input_file = input_file\n",
        "        self.output_file = output_file\n",
        "\n",
        "    def load_data(self):\n",
        "        with open(self.input_file, 'r', encoding='utf-8') as file:\n",
        "            self.data = json.load(file)\n",
        "\n",
        "    def clean_data(self):\n",
        "        descriptions_seen = set()\n",
        "        for entry in self.data:\n",
        "            if 'articles' in entry:\n",
        "                cleaned_articles = []\n",
        "                for article in entry['articles']:\n",
        "                    # Remove unwanted fields\n",
        "                    article.pop('url', None)\n",
        "                    article.pop('urlToImage', None)\n",
        "                    article.pop('publishedAt', None)\n",
        "                    article.pop('content', None)\n",
        "\n",
        "                    # Lowercasing and Unicode normalization\n",
        "                    article['description'] = unidecode(article['description'].lower())\n",
        "\n",
        "                    # Remove segments with \"...\"\n",
        "                    article['description'] = re.sub(r'\\s?[^.]*\\.\\.\\.[^.]*', '', article['description'])\n",
        "\n",
        "                    # Tokenization (split into words)\n",
        "                    article['description_tokens'] = re.findall(r'\\w+|[.,!?;:]', article['description'])\n",
        "\n",
        "                    # Remove duplicate descriptions\n",
        "                    if article['description'] not in descriptions_seen:\n",
        "                        descriptions_seen.add(article['description'])\n",
        "                        cleaned_articles.append(article)\n",
        "                entry['articles'] = cleaned_articles\n",
        "\n",
        "    def save_cleaned_data(self):\n",
        "        with open(self.output_file, 'w', encoding='utf-8') as file:\n",
        "            json.dump(self.data, file, indent=4)\n",
        "\n",
        "    def process(self):\n",
        "        self.load_data()\n",
        "        self.clean_data()\n",
        "        self.save_cleaned_data()"
      ],
      "metadata": {
        "id": "TUMng8Rq9q25"
      },
      "execution_count": 44,
      "outputs": []
    },
    {
      "cell_type": "code",
      "source": [
        "input_file = '/content/news_articles.json'\n",
        "output_file = '/content/cleaned_data.json'\n",
        "cleaner = NewsDataCleaner(input_file, output_file)\n",
        "cleaner.process()\n",
        "print(f\"Data has been cleaned and saved to {output_file}\")"
      ],
      "metadata": {
        "colab": {
          "base_uri": "https://localhost:8080/"
        },
        "id": "5uYxGZBS90M5",
        "outputId": "174381d2-d043-4db6-bd31-41c65dcbe085"
      },
      "execution_count": 45,
      "outputs": [
        {
          "output_type": "stream",
          "name": "stdout",
          "text": [
            "Data has been cleaned and saved to /content/cleaned_data.json\n"
          ]
        }
      ]
    },
    {
      "cell_type": "markdown",
      "source": [
        "**Data Exploration**"
      ],
      "metadata": {
        "id": "YXX5Wu268tdv"
      }
    },
    {
      "cell_type": "code",
      "source": [
        "import json\n",
        "from collections import Counter\n",
        "import matplotlib.pyplot as plt"
      ],
      "metadata": {
        "id": "LwESlo2r806f"
      },
      "execution_count": 46,
      "outputs": []
    },
    {
      "cell_type": "code",
      "source": [
        "class NewsDataAnalyzer:\n",
        "    def __init__(self, input_file):\n",
        "        self.input_file = input_file\n",
        "\n",
        "    def load_data(self):\n",
        "        with open(self.input_file, 'r', encoding='utf-8') as file:\n",
        "            self.data = json.load(file)\n",
        "\n",
        "    def max_sentence_length(self):\n",
        "        max_length = 0\n",
        "        for entry in self.data:\n",
        "            if 'articles' in entry:\n",
        "                for article in entry['articles']:\n",
        "                    sentences = article['description'].split('.')\n",
        "                    max_length = max(max_length, *[len(sentence.split()) for sentence in sentences])\n",
        "        return max_length\n",
        "\n",
        "    def number_of_data(self):\n",
        "        count = 0\n",
        "        for entry in self.data:\n",
        "            if 'articles' in entry:\n",
        "                count += len(entry['articles'])\n",
        "        return count\n",
        "\n",
        "    def source_frequency(self):\n",
        "        sources = []\n",
        "        for entry in self.data:\n",
        "            if 'articles' in entry:\n",
        "                sources.extend(article['source']['name'] for article in entry['articles'] if 'source' in article and 'name' in article['source'])\n",
        "        return Counter(sources)\n",
        "\n",
        "    def plot_source_frequency(self, frequency):\n",
        "        names = list(frequency.keys())\n",
        "        counts = list(frequency.values())\n",
        "\n",
        "        plt.figure(figsize=(10, 6))\n",
        "        plt.bar(names, counts, color='skyblue')\n",
        "        plt.xlabel('Source Name')\n",
        "        plt.ylabel('Frequency')\n",
        "        plt.xticks(rotation=45, ha='right')\n",
        "        plt.title('Frequency of Source Names in the Dataset')\n",
        "        plt.tight_layout()\n",
        "        plt.show()\n",
        "\n",
        "    def analyze(self):\n",
        "        self.load_data()\n",
        "        max_length = self.max_sentence_length()\n",
        "        data_count = self.number_of_data()\n",
        "        source_freq = self.source_frequency()\n",
        "\n",
        "        print(f\"Maximum length of a sentence in the dataset: {max_length} words\")\n",
        "        print(f\"Number of data entries: {data_count}\")\n",
        "        print(f\"Frequency of sources: {source_freq}\")\n",
        "\n",
        "        self.plot_source_frequency(source_freq)"
      ],
      "metadata": {
        "id": "laIP6Sak8vq4"
      },
      "execution_count": 47,
      "outputs": []
    },
    {
      "cell_type": "code",
      "source": [
        "input_file = \"/content/cleaned_data.json\"\n",
        "\n",
        "analyzer = NewsDataAnalyzer(input_file)\n",
        "analyzer.analyze()"
      ],
      "metadata": {
        "colab": {
          "base_uri": "https://localhost:8080/",
          "height": 659
        },
        "id": "5y2vHQVEAh33",
        "outputId": "7d6ec4e0-f75e-432c-99af-351cfdf803aa"
      },
      "execution_count": 48,
      "outputs": [
        {
          "output_type": "stream",
          "name": "stdout",
          "text": [
            "Maximum length of a sentence in the dataset: 45 words\n",
            "Number of data entries: 843\n",
            "Frequency of sources: Counter({'The Verge': 424, 'BBC News': 215, 'TechCrunch': 203, 'Reuters': 1})\n"
          ]
        },
        {
          "output_type": "display_data",
          "data": {
            "text/plain": [
              "<Figure size 1000x600 with 1 Axes>"
            ],
            "image/png": "[encoded data removed]"
          },
          "metadata": {}
        }
      ]
    }
  ]
}